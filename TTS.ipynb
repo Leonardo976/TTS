{
  "nbformat": 4,
  "nbformat_minor": 0,
  "metadata": {
    "colab": {
      "provenance": [],
      "authorship_tag": "ABX9TyPvpdxLdrLBep0YFJMQxKj0",
      "include_colab_link": true
    },
    "kernelspec": {
      "name": "python3",
      "display_name": "Python 3"
    },
    "language_info": {
      "name": "python"
    }
  },
  "cells": [
    {
      "cell_type": "markdown",
      "metadata": {
        "id": "view-in-github",
        "colab_type": "text"
      },
      "source": [
        "<a href=\"https://colab.research.google.com/github/Leonardo976/TTS/blob/main/TTS.ipynb\" target=\"_parent\"><img src=\"https://colab.research.google.com/assets/colab-badge.svg\" alt=\"Open In Colab\"/></a>"
      ]
    },
    {
      "cell_type": "code",
      "source": [
        "# Actualizar numpy y pandas a versiones compatibles\n",
        "!pip install --upgrade numpy pandas\n",
        "\n",
        "# Instalar otras bibliotecas necesarias\n",
        "!pip install pyngrok gtts pyttsx3 torch torchvision torchaudio\n",
        "!pip install scipy matplotlib\n",
        "!apt-get install espeak\n",
        "\n",
        "\n",
        "\n",
        "\n"
      ],
      "metadata": {
        "id": "7zFdzXQ5R3z4"
      },
      "execution_count": null,
      "outputs": []
    },
    {
      "cell_type": "code",
      "source": [
        "from pyngrok import ngrok\n",
        "\n",
        "# Reemplaza \"YOUR_AUTHTOKEN\" con tu token de Ngrok\n",
        "ngrok.set_auth_token(\"2mlWGQ5jURb6YApHndTBXBEA5ZC_7a4GtijtUonq7cnBLN7dQ\")\n"
      ],
      "metadata": {
        "id": "wEcjehBaR6zn",
        "colab": {
          "base_uri": "https://localhost:8080/"
        },
        "outputId": "6226a910-d909-4a3d-e617-8d20c357d7f5"
      },
      "execution_count": 3,
      "outputs": [
        {
          "output_type": "stream",
          "name": "stdout",
          "text": []
        }
      ]
    },
    {
      "cell_type": "code",
      "source": [
        "import pyttsx3\n",
        "\n",
        "# Inicializar el motor\n",
        "engine = pyttsx3.init()\n",
        "\n",
        "# Listar voces disponibles\n",
        "voices = engine.getProperty('voices')\n",
        "available_voices = {}\n",
        "\n",
        "# Filtrar y formatear las voces\n",
        "for voice in voices:\n",
        "    voice_name = voice.name  # Nombre completo de la voz\n",
        "    voice_lang = voice.languages[0] if voice.languages else \"unknown\"  # Obtener el idioma\n",
        "    country = voice_name.split(\" \")[1] if len(voice_name.split(\" \")) > 1 else \"unknown\"  # Tomar el país\n",
        "    if voice.id not in available_voices:  # Evitar duplicados usando el ID\n",
        "        available_voices[voice.id] = (voice_name, country, voice_lang)\n",
        "\n",
        "# Mostrar las voces disponibles\n",
        "for id, (name, country, lang) in available_voices.items():\n",
        "    print(f'Voice: {name} - ID: {id} - Country: {country} - Language: {lang}')\n",
        "\n"
      ],
      "metadata": {
        "id": "MNk2RA-DjV7C"
      },
      "execution_count": null,
      "outputs": []
    },
    {
      "cell_type": "code",
      "source": [
        "# Iniciar un túnel en el puerto 5000\n",
        "public_url = ngrok.connect(5000)\n",
        "print(\"La URL pública de Ngrok es:\", public_url)\n",
        "\n"
      ],
      "metadata": {
        "colab": {
          "base_uri": "https://localhost:8080/"
        },
        "id": "FqUSp1wpR8YK",
        "outputId": "c5f259da-d9fa-49f4-e4d9-0dd4d9a40cdc"
      },
      "execution_count": 5,
      "outputs": [
        {
          "output_type": "stream",
          "name": "stdout",
          "text": [
            "La URL pública de Ngrok es: NgrokTunnel: \"https://5b65-34-19-67-39.ngrok-free.app\" -> \"http://localhost:5000\"\n"
          ]
        }
      ]
    },
    {
      "cell_type": "code",
      "source": [
        "from flask import Flask, request, jsonify, send_file, render_template_string\n",
        "import librosa\n",
        "import soundfile as sf\n",
        "import numpy as np\n",
        "import os\n",
        "from gtts import gTTS  # Usar gTTS para TTS\n",
        "\n",
        "# Crear aplicación Flask\n",
        "app = Flask(__name__)\n",
        "\n",
        "# Directorio temporal en Google Colab para guardar los archivos subidos\n",
        "UPLOAD_FOLDER = '/content/uploads'\n",
        "os.makedirs(UPLOAD_FOLDER, exist_ok=True)\n",
        "\n",
        "# Función para aplicar fade in\n",
        "def fade_in(audio, fade_duration):\n",
        "    fade_in_samples = int(fade_duration * 44100)  # 44100 es la frecuencia de muestreo\n",
        "    fade_in_curve = np.linspace(0, 1, fade_in_samples)\n",
        "    audio[:fade_in_samples] *= fade_in_curve\n",
        "    return audio\n",
        "\n",
        "# Función para aplicar fade out\n",
        "def fade_out(audio, fade_duration):\n",
        "    fade_out_samples = int(fade_duration * 44100)\n",
        "    fade_out_curve = np.linspace(1, 0, fade_out_samples)\n",
        "    audio[-fade_out_samples:] *= fade_out_curve\n",
        "    return audio\n",
        "\n",
        "# En la parte de la vista principal de la API Flask\n",
        "@app.route('/')\n",
        "def index():\n",
        "    return render_template_string('''\n",
        "        <html>\n",
        "        <head>\n",
        "            <title>API de Procesamiento de Audio</title>\n",
        "        </head>\n",
        "        <body>\n",
        "            <h1>API de Procesamiento de Audio</h1>\n",
        "            <h2>1. Procesamiento de Audio</h2>\n",
        "            <form action=\"/process_audio\" method=\"post\" enctype=\"multipart/form-data\">\n",
        "                <label for=\"file\">Selecciona un archivo de audio (opcional):</label><br>\n",
        "                <input type=\"file\" name=\"file\"><br><br>\n",
        "                <label for=\"text_marks\">Selecciona las opciones de audio:</label><br>\n",
        "                <input type=\"checkbox\" name=\"text_marks\" value=\"slow\"> Slow<br>\n",
        "                <input type=\"checkbox\" name=\"text_marks\" value=\"fast\"> Fast<br>\n",
        "                <input type=\"checkbox\" name=\"text_marks\" value=\"pitch_up\"> Pitch Up<br>\n",
        "                <input type=\"checkbox\" name=\"text_marks\" value=\"pitch_down\"> Pitch Down<br>\n",
        "                <input type=\"checkbox\" name=\"text_marks\" value=\"reverse\"> Reverse<br>\n",
        "                <input type=\"checkbox\" name=\"text_marks\" value=\"fade_in\"> Fade In<br>\n",
        "                <input type=\"checkbox\" name=\"text_marks\" value=\"fade_out\"> Fade Out<br>\n",
        "                <input type=\"submit\" value=\"Procesar Audio\">\n",
        "            </form>\n",
        "\n",
        "            <h2>2. Texto a Voz</h2>\n",
        "            <form action=\"/text_to_voice\" method=\"post\" enctype=\"multipart/form-data\">\n",
        "                <label for=\"text_to_speech\">Texto para convertir a voz:</label><br>\n",
        "                <textarea name=\"text_to_speech\" rows=\"4\" cols=\"50\" placeholder=\"Escribe el texto aquí...\"></textarea><br><br>\n",
        "                <label for=\"voice_select\">Selecciona la voz:</label><br>\n",
        "                <select name=\"voice_select\">\n",
        "                    {% for id, (name, country, lang) in available_voices.items() %}\n",
        "                    <option value=\"{{ id }}\">{{ name }} ({{ country }}, {{ lang }})</option>\n",
        "                    {% endfor %}\n",
        "                </select><br><br>\n",
        "                <input type=\"submit\" value=\"Convertir a Voz\">\n",
        "            </form>\n",
        "        </body>\n",
        "        </html>\n",
        "    ''', available_voices=available_voices)\n",
        "\n",
        "# Ruta para procesar el audio\n",
        "@app.route('/process_audio', methods=['POST'])\n",
        "def process_audio():\n",
        "    if 'file' not in request.files:\n",
        "        return jsonify({\"message\": \"No audio file uploaded.\"}), 400\n",
        "\n",
        "    # Recibir el archivo de audio subido (opcional)\n",
        "    audio_file = request.files.get('file')\n",
        "    audio = None\n",
        "    if audio_file:\n",
        "        file_path = os.path.join(UPLOAD_FOLDER, audio_file.filename)\n",
        "        audio_file.save(file_path)\n",
        "\n",
        "        # Cargar el audio usando librosa\n",
        "        audio, sr = librosa.load(file_path, sr=None)\n",
        "\n",
        "    # Procesar marcas de texto\n",
        "    text_marks = request.form.getlist('text_marks')  # Obtener una lista de opciones\n",
        "\n",
        "    if audio is not None:\n",
        "        for mark in text_marks:\n",
        "            if mark == \"slow\":\n",
        "                audio = librosa.effects.time_stretch(audio, rate=0.8)\n",
        "            elif mark == \"fast\":\n",
        "                audio = librosa.effects.time_stretch(audio, rate=1.2)\n",
        "            elif mark == \"pitch_up\":\n",
        "                audio = librosa.effects.pitch_shift(audio, n_steps=4, sr=sr)\n",
        "            elif mark == \"pitch_down\":\n",
        "                audio = librosa.effects.pitch_shift(audio, n_steps=-4, sr=sr)\n",
        "            elif mark == \"reverse\":\n",
        "                audio = audio[::-1]  # Revertir el audio\n",
        "            elif mark == \"fade_in\":\n",
        "                audio = fade_in(audio, fade_duration=1.0)  # Desvanecimiento de 1 segundo\n",
        "            elif mark == \"fade_out\":\n",
        "                audio = fade_out(audio, fade_duration=1.0)  # Desvanecimiento de 1 segundo\n",
        "\n",
        "        # Guardar el archivo procesado\n",
        "        output_path = os.path.join(UPLOAD_FOLDER, 'output.wav')\n",
        "        sf.write(output_path, audio, sr)\n",
        "\n",
        "        # Devolver el archivo procesado\n",
        "        return send_file(output_path, as_attachment=True)\n",
        "    else:\n",
        "        return jsonify({\"message\": \"No audio processing performed.\"}), 200\n",
        "\n",
        "# Ruta para texto a voz\n",
        "@app.route('/text_to_voice', methods=['POST'])\n",
        "def text_to_voice():\n",
        "    text_to_speech = request.form.get('text_to_speech', None)\n",
        "    voice_select = request.form.get('voice_select', None)\n",
        "\n",
        "    if not text_to_speech:\n",
        "        return jsonify({\"error\": \"Text must be provided.\"}), 400\n",
        "\n",
        "    # Seleccionar la voz basada en la opción elegida\n",
        "    selected_voice = available_voices.get(voice_select)\n",
        "    engine.setProperty('voice', selected_voice)  # Establecer la voz seleccionada\n",
        "    engine.setProperty('rate', 150)  # Ajustar velocidad de habla\n",
        "    engine.setProperty('volume', 1.0)  # Ajustar volumen\n",
        "\n",
        "    # Generar el audio de texto a voz\n",
        "    audio_file_path = os.path.join(UPLOAD_FOLDER, 'text_to_voice_output.wav')\n",
        "    tts = gTTS(text=text_to_speech, lang='es' if 'es' in selected_voice else 'en', slow=False)\n",
        "    tts.save(audio_file_path)\n",
        "\n",
        "    # Devolver el archivo procesado\n",
        "    return send_file(audio_file_path, as_attachment=True)\n",
        "\n",
        "# Iniciar la aplicación Flask\n",
        "app.run(port=5000)\n"
      ],
      "metadata": {
        "id": "PBrDA1rtR9oS",
        "colab": {
          "base_uri": "https://localhost:8080/"
        },
        "outputId": "1d362110-fe2e-4041-eec5-d7740095e81d"
      },
      "execution_count": null,
      "outputs": [
        {
          "output_type": "stream",
          "name": "stdout",
          "text": [
            " * Serving Flask app '__main__'\n",
            " * Debug mode: off\n"
          ]
        },
        {
          "output_type": "stream",
          "name": "stderr",
          "text": [
            "INFO:werkzeug:\u001b[31m\u001b[1mWARNING: This is a development server. Do not use it in a production deployment. Use a production WSGI server instead.\u001b[0m\n",
            " * Running on http://127.0.0.1:5000\n",
            "INFO:werkzeug:\u001b[33mPress CTRL+C to quit\u001b[0m\n",
            "INFO:werkzeug:127.0.0.1 - - [30/Sep/2024 22:03:15] \"GET / HTTP/1.1\" 200 -\n",
            "INFO:werkzeug:127.0.0.1 - - [30/Sep/2024 22:03:16] \"\u001b[33mGET /favicon.ico HTTP/1.1\u001b[0m\" 404 -\n",
            "INFO:werkzeug:127.0.0.1 - - [30/Sep/2024 22:04:09] \"POST /text_to_voice HTTP/1.1\" 200 -\n"
          ]
        }
      ]
    },
    {
      "cell_type": "code",
      "source": [
        "from google.colab import files\n",
        "\n",
        "# Subir el archivo de audio desde tu computadora\n",
        "uploaded = files.upload()\n",
        "\n",
        "# Listar los archivos subidos\n",
        "for filename in uploaded.keys():\n",
        "    print(f\"Archivo subido: {filename}\")\n",
        "\n"
      ],
      "metadata": {
        "id": "m-K1usqtR_-9"
      },
      "execution_count": null,
      "outputs": []
    },
    {
      "cell_type": "code",
      "source": [
        "import requests\n",
        "\n",
        "# Usa la URL pública proporcionada por Ngrok\n",
        "url = public_url + \"/process_audio\"  # Usa la URL de Ngrok\n",
        "\n",
        "# Archivo de audio subido (cambia el nombre según corresponda)\n",
        "files = {'file': open('/content/your_audio_file.wav', 'rb')}  # Cambia 'your_audio_file.wav' por el nombre del archivo subido\n",
        "data = {'text_marks': 'pitch_up,slow'}\n",
        "\n",
        "# Enviar solicitud POST a la API Flask\n",
        "response = requests.post(url, files=files, data=data)\n",
        "\n",
        "# Guardar el archivo de audio modificado devuelto por la API\n",
        "with open(\"modified_audio.wav\", 'wb') as f:\n",
        "    f.write(response.content)\n",
        "\n",
        "print(\"El audio modificado ha sido guardado como 'modified_audio.wav'.\")\n"
      ],
      "metadata": {
        "id": "GUiVpTUsSDm1"
      },
      "execution_count": null,
      "outputs": []
    }
  ]
}